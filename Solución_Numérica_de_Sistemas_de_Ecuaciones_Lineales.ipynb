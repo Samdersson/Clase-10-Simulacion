{
  "nbformat": 4,
  "nbformat_minor": 0,
  "metadata": {
    "colab": {
      "provenance": [],
      "gpuType": "V28",
      "authorship_tag": "ABX9TyMu7dJ98HXSA1Gv4qIQra/2",
      "include_colab_link": true
    },
    "kernelspec": {
      "name": "python3",
      "display_name": "Python 3"
    },
    "language_info": {
      "name": "python"
    },
    "accelerator": "TPU"
  },
  "cells": [
    {
      "cell_type": "markdown",
      "metadata": {
        "id": "view-in-github",
        "colab_type": "text"
      },
      "source": [
        "<a href=\"https://colab.research.google.com/github/Samdersson/Clase-10-Simulacion/blob/main/Soluci%C3%B3n_Num%C3%A9rica_de_Sistemas_de_Ecuaciones_Lineales.ipynb\" target=\"_parent\"><img src=\"https://colab.research.google.com/assets/colab-badge.svg\" alt=\"Open In Colab\"/></a>"
      ]
    },
    {
      "cell_type": "markdown",
      "source": [
        "#Eliminacion de Gauss"
      ],
      "metadata": {
        "id": "OPYNzodwydHo"
      }
    },
    {
      "cell_type": "markdown",
      "source": [
        "Planteamiento 1"
      ],
      "metadata": {
        "id": "uiI9aNckzKae"
      }
    },
    {
      "cell_type": "code",
      "execution_count": 1,
      "metadata": {
        "colab": {
          "base_uri": "https://localhost:8080/"
        },
        "id": "bIi8u1G0yOFY",
        "outputId": "7ff83abd-dd09-416c-848a-8d80fded8bf1"
      },
      "outputs": [
        {
          "output_type": "stream",
          "name": "stdout",
          "text": [
            "[-5.00000000e-01 -3.41607085e-17  1.50000000e+00]\n"
          ]
        }
      ],
      "source": [
        "import numpy as np\n",
        "\n",
        "A = np.array([[2, 3, 1],\n",
        "              [4, 1, 2],\n",
        "              [3, 4, 2]], dtype=float)\n",
        "\n",
        "b = np.array([0.5, 1.0, 1.5], dtype=float)\n",
        "\n",
        "# Resolver el sistema usando eliminación de Gauss\n",
        "sol = np.linalg.solve(A, b)\n",
        "print(sol)\n"
      ]
    },
    {
      "cell_type": "markdown",
      "source": [
        "planteamiento 2"
      ],
      "metadata": {
        "id": "DKdEOc-R4pb3"
      }
    },
    {
      "cell_type": "code",
      "source": [
        "import numpy as np\n",
        "\n",
        "A = np.array([[3, 0.1, 0.2],\n",
        "              [0.1, 0.7, 0.3],\n",
        "              [0.3, 0.2, 10]], dtype=float)\n",
        "\n",
        "b = np.array([7.85, 19.3, 71.4], dtype=float)\n",
        "\n",
        "# Resolver el sistema usando eliminación de Gauss\n",
        "sol = np.linalg.solve(A, b)\n",
        "print(sol)"
      ],
      "metadata": {
        "colab": {
          "base_uri": "https://localhost:8080/"
        },
        "id": "TgqKRouI4rOd",
        "outputId": "56350645-a5da-4844-d203-cbced8950321"
      },
      "execution_count": 1,
      "outputs": [
        {
          "output_type": "stream",
          "name": "stdout",
          "text": [
            "[ 1.3579334  24.54528539  6.60835629]\n"
          ]
        }
      ]
    },
    {
      "cell_type": "markdown",
      "source": [
        "#Método de la Matriz Inversa"
      ],
      "metadata": {
        "id": "40R_xr7u5abH"
      }
    },
    {
      "cell_type": "markdown",
      "source": [
        "planteamiento 1"
      ],
      "metadata": {
        "id": "qh7c-1Qj5fFl"
      }
    },
    {
      "cell_type": "code",
      "source": [
        "# Matriz de coeficientes\n",
        "A = np.array([[3, 0.1, 0.2],\n",
        "              [0.1, 0.3, 19.3],\n",
        "              [0.3, 0.2, 10]], dtype=float)\n",
        "\n",
        "# Vector de salida deseada\n",
        "b = np.array([7.85, 19.3, 71.4], dtype=float)\n",
        "\n",
        "# Calcular la matriz inversa\n",
        "A_inv = np.linalg.inv(A)\n",
        "\n",
        "# Multiplicar A_inv por el vector b\n",
        "sol = np.dot(A_inv, b)\n",
        "\n",
        "# Mostrar la solución\n",
        "print(\"Pesos ajustados:\")\n",
        "print(f\"w1 = {sol[0]:.4f}, w2 = {sol[1]:.4f}, w3 = {sol[2]:.4f}\")\n"
      ],
      "metadata": {
        "colab": {
          "base_uri": "https://localhost:8080/"
        },
        "id": "QKdZEp3I5eQd",
        "outputId": "5b708519-1571-45db-a9d5-f17c404af464"
      },
      "execution_count": 2,
      "outputs": [
        {
          "output_type": "stream",
          "name": "stdout",
          "text": [
            "Pesos ajustados:\n",
            "w1 = -51.1768, w2 = 1662.9733, w3 = -24.5842\n"
          ]
        }
      ]
    },
    {
      "cell_type": "markdown",
      "source": [
        "#metodo de Jacobi"
      ],
      "metadata": {
        "id": "xyZywtYP6fXz"
      }
    },
    {
      "cell_type": "code",
      "source": [
        "import numpy as np\n",
        "\n",
        "def jacobi(A, b, x0, tol=1e-10, max_iter=1000):\n",
        "    n = len(b)\n",
        "    x = x0\n",
        "    for k in range(max_iter):\n",
        "        x_new = np.zeros_like(x)\n",
        "        for i in range(n):\n",
        "            s = sum(A[i][j] * x[j] for j in range(n) if i != j)\n",
        "            x_new[i] = (b[i] - s) / A[i][i]\n",
        "        if np.linalg.norm(x_new - x, ord=np.inf) < tol:\n",
        "            return x_new\n",
        "        x = x_new\n",
        "    return x\n",
        "\n",
        "# Matriz de coeficientes\n",
        "A = np.array([[3, 0.1, 0.2],\n",
        "              [0.1, 0.7, 0.3],\n",
        "              [0.3, 0.2, 10]], dtype=float)\n",
        "\n",
        "# Vector de errores\n",
        "b = np.array([7.85, 19.3, 71.4], dtype=float)\n",
        "\n",
        "# Aproximación inicial\n",
        "x0 = np.zeros_like(b)\n",
        "\n",
        "# Aplicar el método de Jacobi\n",
        "sol = jacobi(A, b, x0)\n",
        "print(\"Pesos ajustados usando Jacobi:\")\n",
        "print(sol)"
      ],
      "metadata": {
        "colab": {
          "base_uri": "https://localhost:8080/"
        },
        "id": "t4aJbpep6iRj",
        "outputId": "6b2636d7-026a-44ce-d147-23124ecd1da0"
      },
      "execution_count": 3,
      "outputs": [
        {
          "output_type": "stream",
          "name": "stdout",
          "text": [
            "Pesos ajustados usando Jacobi:\n",
            "[ 1.3579334  24.54528539  6.60835629]\n"
          ]
        }
      ]
    },
    {
      "cell_type": "markdown",
      "source": [
        "#Método Iterativo de Gauss-Seidel"
      ],
      "metadata": {
        "id": "oxGGdhtZ6n5T"
      }
    },
    {
      "cell_type": "code",
      "source": [
        "import numpy as np\n",
        "\n",
        "def gauss_seidel(A, b, x0, tol=1e-10, max_iter=1000):\n",
        "    n = len(b)\n",
        "    x = x0\n",
        "    for k in range(max_iter):\n",
        "        x_new = np.copy(x)\n",
        "        for i in range(n):\n",
        "            s1 = sum(A[i][j] * x_new[j] for j in range(i))\n",
        "            s2 = sum(A[i][j] * x[j] for j in range(i+1, n))\n",
        "            x_new[i] = (b[i] - s1 - s2) / A[i][i]\n",
        "        if np.linalg.norm(x_new - x, ord=np.inf) < tol:\n",
        "            return x_new, k\n",
        "        x = x_new\n",
        "    return x, max_iter\n",
        "\n",
        "# Matriz de coeficientes\n",
        "A = np.array([[10, -1, 2],\n",
        "              [-1, 11, -1],\n",
        "              [2, -1, 10]], dtype=float)\n",
        "\n",
        "# Vector de términos independientes\n",
        "b = np.array([5, 6, 7], dtype=float)\n",
        "\n",
        "# Valor inicial de las incógnitas\n",
        "x0 = np.zeros_like(b)\n",
        "\n",
        "# Resolver el sistema usando el método de Gauss-Seidel\n",
        "sol, iteraciones = gauss_seidel(A, b, x0)\n",
        "\n",
        "# Mostrar la solución y el número de iteraciones\n",
        "print(\"Solución del sistema:\")\n",
        "print(sol)\n",
        "print(f\"Número de iteraciones: {iteraciones}\")\n"
      ],
      "metadata": {
        "colab": {
          "base_uri": "https://localhost:8080/"
        },
        "id": "-0Y6BUMm6o80",
        "outputId": "b66c6a3e-b467-4f25-be9c-7044286a2a34"
      },
      "execution_count": 4,
      "outputs": [
        {
          "output_type": "stream",
          "name": "stdout",
          "text": [
            "Solución del sistema:\n",
            "[0.42884615 0.64615385 0.67884615]\n",
            "Número de iteraciones: 8\n"
          ]
        }
      ]
    },
    {
      "cell_type": "markdown",
      "source": [
        "#Descomposición Cholesky"
      ],
      "metadata": {
        "id": "7Uz2Gvx68tkO"
      }
    },
    {
      "cell_type": "code",
      "source": [
        "from scipy.linalg import cholesky\n",
        "\n",
        "# Matriz y vector\n",
        "A = np.array([[25, 15, 5],\n",
        "              [15, 18, 0],\n",
        "              [-5, 0, 11]], dtype=float)\n",
        "\n",
        "b = np.array([350, 400, 200], dtype=float)\n",
        "\n",
        "# Descomposición de Cholesky\n",
        "L = cholesky(A, lower=True)\n",
        "\n",
        "# Resolver Ly = b\n",
        "y = np.linalg.solve(L, b)\n",
        "\n",
        "# Resolver L^T x = y\n",
        "x = np.linalg.solve(L.T, y)\n",
        "\n",
        "print(\"Pesos ajustados usando Cholesky:\")\n",
        "print(x)\n"
      ],
      "metadata": {
        "colab": {
          "base_uri": "https://localhost:8080/"
        },
        "id": "W1NK-Lf-8vDU",
        "outputId": "e24d70b7-2b58-4cd6-f082-48ca49a9926b"
      },
      "execution_count": 5,
      "outputs": [
        {
          "output_type": "stream",
          "name": "stdout",
          "text": [
            "Pesos ajustados usando Cholesky:\n",
            "[10.51851852 13.45679012 22.96296296]\n"
          ]
        }
      ]
    }
  ]
}